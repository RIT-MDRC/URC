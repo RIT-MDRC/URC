{
 "cells": [
  {
   "cell_type": "code",
   "execution_count": 1,
   "source": [
    "import klampt\r\n",
    "from klampt.model import ik\r\n",
    "world = klampt.WorldModel()\r\n",
    "world.loadElement(\"data/robots/planar3R.rob\")\r\n",
    "\r\n",
    "robot= world.robot(0)\r\n",
    "link = robot.link(2)\r\n",
    "print(robot.getConfig())\r\n",
    "obj = ik.objective(link,local=[1,0,0],world=[1.5,0,1])\r\n",
    "solver = ik.solver(obj)\r\n",
    "solver.solve()\r\n",
    "robot.getConfig()\r\n",
    "print(solver.getResidual())"
   ],
   "outputs": [
    {
     "output_type": "stream",
     "name": "stdout",
     "text": [
      "[0.0, 0.0, 0.0]\n",
      "[1.5, 0.0, -1.0]\n"
     ]
    }
   ],
   "metadata": {}
  },
  {
   "cell_type": "code",
   "execution_count": 2,
   "source": [
    "solver.setJointLimits([],[])  #the values [],[] tell the solver to turn off joint limits\r\n",
    "robot.setConfig([0,0,0])\r\n",
    "solver.solve()\r\n",
    "print(robot.getConfig())\r\n",
    "print(solver.getResidual())"
   ],
   "outputs": [
    {
     "output_type": "stream",
     "name": "stdout",
     "text": [
      "[5.877906609635256, 0.7368133107069745, 4.007700700864934]\n",
      "[-1.7379776665160662e-05, 0.0, -3.7261849330727514e-05]\n"
     ]
    }
   ],
   "metadata": {}
  },
  {
   "cell_type": "code",
   "execution_count": 3,
   "source": [
    "solver.setJointLimits(*robot.getJointLimits())    #reinstantiate joint limits\r\n",
    "solver.sampleInitial()   # the initial configuration didn't let the solver find a solution, sample a new one\r\n",
    "solver.solve()\r\n",
    "print(robot.getConfig())\r\n",
    "print(solver.getResidual())"
   ],
   "outputs": [
    {
     "output_type": "stream",
     "name": "stdout",
     "text": [
      "[4.2024410061800745, 2.1055804382489574, 6.1057314748906375]\n",
      "[-6.373476354371022e-05, 0.0, -3.7761095224242425e-05]\n"
     ]
    }
   ],
   "metadata": {}
  },
  {
   "cell_type": "code",
   "execution_count": 4,
   "source": [
    "from klampt import vis\r\n",
    "vis.add(\"world\",world)    #shows the robot in the solved configuration\r\n",
    "vis.add(\"local point\",link.getWorldPosition([1,0,0]))\r\n",
    "vis.setAttribute(\"local point\",\"type\",\"Vector3\")  #usually the vis module identifies a Config vs a Vector3, but this robot has exactly 3 links\r\n",
    "vis.add(\"target point\",[1.5,0,1])\r\n",
    "vis.setAttribute(\"target point\",\"type\",\"Vector3\")\r\n",
    "vis.setColor(\"target point\",1,0,0)  #turns the target point red\r\n",
    "vis.show()  #this will pop up the visualization window until you close it"
   ],
   "outputs": [
    {
     "output_type": "stream",
     "name": "stderr",
     "text": [
      "C:\\Users\\Kirin\\anaconda3\\lib\\site-packages\\klampt\\vis\\visualization.py:1729: UserWarning: Unable to draw item of ambiguous types ['Config', 'Vector3']\n",
      "  (Try vis.setAttribute(item,'type',desired_type_str) to disambiguate)\n",
      "  warnings.warn(\"Unable to draw item of ambiguous types {}\\n  (Try vis.setAttribute(item,'type',desired_type_str) to disambiguate)\".format(validtypes))\n"
     ]
    },
    {
     "output_type": "display_data",
     "data": {
      "application/vnd.jupyter.widget-view+json": {
       "version_major": 2,
       "version_minor": 0,
       "model_id": "9e72f1b65d8a4ad6b8400ac4b9531717"
      },
      "text/plain": [
       "KlamptWidgetAdaptor(rpc={'type': 'multiple', 'calls': [{'type': 'add_ghost', 'object': 'planar3R', 'prefix_nam…"
      ]
     },
     "metadata": {}
    }
   ],
   "metadata": {}
  }
 ],
 "metadata": {
  "orig_nbformat": 4,
  "language_info": {
   "name": "python",
   "version": "3.8.3",
   "mimetype": "text/x-python",
   "codemirror_mode": {
    "name": "ipython",
    "version": 3
   },
   "pygments_lexer": "ipython3",
   "nbconvert_exporter": "python",
   "file_extension": ".py"
  },
  "kernelspec": {
   "name": "python3",
   "display_name": "Python 3.8.3 64-bit ('base': conda)"
  },
  "interpreter": {
   "hash": "aa3c4b09527d69065abf1e8d93c857fbb0288f83a86564d41b33a57a3c97590f"
  }
 },
 "nbformat": 4,
 "nbformat_minor": 2
}